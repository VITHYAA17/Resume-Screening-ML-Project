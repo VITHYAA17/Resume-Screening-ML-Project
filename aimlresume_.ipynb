{
  "nbformat": 4,
  "nbformat_minor": 0,
  "metadata": {
    "colab": {
      "private_outputs": true,
      "provenance": [],
      "authorship_tag": "ABX9TyNXIUJCn8O3pK+KyzQRq/BM",
      "include_colab_link": true
    },
    "kernelspec": {
      "name": "python3",
      "display_name": "Python 3"
    },
    "language_info": {
      "name": "python"
    }
  },
  "cells": [
    {
      "cell_type": "markdown",
      "metadata": {
        "id": "view-in-github",
        "colab_type": "text"
      },
      "source": [
        "<a href=\"https://colab.research.google.com/github/VITHYAA17/Resume-Screening-ML-Project/blob/main/aimlresume_.ipynb\" target=\"_parent\"><img src=\"https://colab.research.google.com/assets/colab-badge.svg\" alt=\"Open In Colab\"/></a>"
      ]
    },
    {
      "source": [
        "# Task\n",
        "Tell me about this dataset.\n",
        "\n",
        "Here is all the data you need:\n",
        "\"UpdatedResumeDataSet.csv\""
      ],
      "cell_type": "markdown",
      "metadata": {
        "id": "fYQRybEf01Gy"
      }
    },
    {
      "source": [
        "## Data loading\n",
        "\n",
        "### Subtask:\n",
        "Load the dataset \"UpdatedResumeDataSet.csv\" into a pandas DataFrame.\n"
      ],
      "cell_type": "markdown",
      "metadata": {
        "id": "qNjR-5CX01Wn"
      }
    },
    {
      "source": [
        "**Reasoning**:\n",
        "Load the dataset \"UpdatedResumeDataSet.csv\" into a pandas DataFrame and display the first few rows.\n",
        "\n"
      ],
      "cell_type": "markdown",
      "metadata": {
        "id": "mkpjb0ip01mY"
      }
    },
    {
      "source": [
        "import pandas as pd\n",
        "\n",
        "try:\n",
        "    df = pd.read_csv('UpdatedResumeDataSet.csv')\n",
        "    display(df.head())\n",
        "except FileNotFoundError:\n",
        "    print(\"Error: 'UpdatedResumeDataSet.csv' not found. Please ensure the file exists in the current directory or provide the correct path.\")\n",
        "    df = None"
      ],
      "cell_type": "code",
      "metadata": {
        "id": "GYKJySSi012G"
      },
      "execution_count": null,
      "outputs": []
    },
    {
      "source": [
        "## Data exploration\n",
        "\n",
        "### Subtask:\n",
        "Explore the loaded dataset to understand its basic characteristics.\n"
      ],
      "cell_type": "markdown",
      "metadata": {
        "id": "JSq0hUyi05jg"
      }
    },
    {
      "source": [
        "**Reasoning**:\n",
        "Explore the dataset by examining its shape, data types, descriptive statistics, and unique values in key columns.\n",
        "\n"
      ],
      "cell_type": "markdown",
      "metadata": {
        "id": "eeWRfseG06cO"
      }
    },
    {
      "source": [
        "# Examine the shape of the DataFrame\n",
        "print(\"Shape of the DataFrame:\", df.shape)\n",
        "\n",
        "# Get a concise summary of the DataFrame\n",
        "print(\"\\nDataFrame Info:\")\n",
        "print(df.info())\n",
        "\n",
        "# Generate descriptive statistics for numerical columns\n",
        "print(\"\\nDescriptive Statistics:\")\n",
        "print(df.describe())\n",
        "\n",
        "# Check unique values and frequencies in 'Category' column\n",
        "print(\"\\nUnique Categories and their frequencies:\")\n",
        "print(df['Category'].value_counts())\n",
        "\n",
        "# Check unique values and frequencies in 'Resume_str' column (if exists)\n",
        "if 'Resume_str' in df.columns:\n",
        "    print(\"\\nUnique Resume Strings and their frequencies:\")\n",
        "    print(df['Resume_str'].value_counts())\n",
        "elif 'Resume' in df.columns:\n",
        "    print(\"\\nUnique Resumes and their frequencies (using 'Resume' column):\")\n",
        "    print(df['Resume'].value_counts())\n",
        "else:\n",
        "    print(\"\\nNeither 'Resume_str' nor 'Resume' column found in the DataFrame.\")"
      ],
      "cell_type": "code",
      "metadata": {
        "id": "012m_vFf06r9"
      },
      "execution_count": null,
      "outputs": []
    },
    {
      "source": [
        "## Data analysis\n",
        "\n",
        "### Subtask:\n",
        "Analyze the distribution of the 'Category' column in more detail.  Also, analyze the text data in the 'Resume' column to understand the most frequent words or n-grams.\n"
      ],
      "cell_type": "markdown",
      "metadata": {
        "id": "tzWrO3Ab0-kw"
      }
    },
    {
      "source": [
        "**Reasoning**:\n",
        "Analyze the frequency distribution of the 'Category' column, perform text analysis on the 'Resume' column, and identify frequent words and n-grams.\n",
        "\n"
      ],
      "cell_type": "markdown",
      "metadata": {
        "id": "avRWQrk91AEE"
      }
    },
    {
      "source": [
        "import matplotlib.pyplot as plt\n",
        "from collections import Counter\n",
        "import nltk\n",
        "from nltk.corpus import stopwords\n",
        "from nltk.tokenize import word_tokenize\n",
        "from nltk.util import ngrams\n",
        "\n",
        "try:\n",
        "    nltk.data.find('tokenizers/punkt')\n",
        "except LookupError:\n",
        "    nltk.download('punkt')\n",
        "try:\n",
        "    nltk.data.find('corpora/stopwords')\n",
        "except LookupError:\n",
        "    nltk.download('stopwords')\n",
        "\n",
        "\n",
        "# 1. Category Frequency Analysis\n",
        "category_counts = df['Category'].value_counts()\n",
        "top_5_categories = category_counts.head(5)\n",
        "category_percentages = (category_counts / len(df)) * 100\n",
        "\n",
        "print(\"Top 5 Categories and their counts:\")\n",
        "print(top_5_categories)\n",
        "print(\"\\nCategory Percentages:\")\n",
        "print(category_percentages.head())\n",
        "\n",
        "plt.figure(figsize=(10, 6))\n",
        "plt.bar(top_5_categories.index, top_5_categories.values, color='skyblue')\n",
        "plt.xlabel(\"Category\")\n",
        "plt.ylabel(\"Frequency\")\n",
        "plt.title(\"Top 5 Most Frequent Categories\")\n",
        "plt.xticks(rotation=45, ha='right')\n",
        "plt.tight_layout()\n",
        "plt.show()\n",
        "\n",
        "# 2. Text Analysis (Word Frequencies)\n",
        "stop_words = set(stopwords.words('english'))\n",
        "all_words = []\n",
        "for resume in df['Resume']:\n",
        "    words = word_tokenize(resume.lower())\n",
        "    words = [word for word in words if word.isalnum() and word not in stop_words]  # Remove non-alphanumeric and stop words\n",
        "    all_words.extend(words)\n",
        "word_counts = Counter(all_words)\n",
        "\n",
        "top_10_words = word_counts.most_common(10)\n",
        "\n",
        "print(\"\\nTop 10 most frequent words:\")\n",
        "print(top_10_words)\n",
        "\n",
        "# 3. N-gram Analysis (Optional - 2-grams and 3-grams)\n",
        "bigrams = list(ngrams(all_words, 2))\n",
        "trigrams = list(ngrams(all_words, 3))\n",
        "\n",
        "bigram_counts = Counter(bigrams)\n",
        "top_10_bigrams = bigram_counts.most_common(10)\n",
        "\n",
        "trigram_counts = Counter(trigrams)\n",
        "top_10_trigrams = trigram_counts.most_common(10)\n",
        "\n",
        "\n",
        "print(\"\\nTop 10 most frequent bigrams:\")\n",
        "print(top_10_bigrams)\n",
        "\n",
        "print(\"\\nTop 10 most frequent trigrams:\")\n",
        "print(top_10_trigrams)\n",
        "\n",
        "# 4. Relationships (Observations)\n",
        "#  Observe the most frequent words/n-grams associated with each category in top_5_categories.\n",
        "#  Look for patterns or words that are over-represented in certain job categories.  This is\n",
        "#  qualitative analysis at this point.\n"
      ],
      "cell_type": "code",
      "metadata": {
        "id": "xEMDr8Ph1AT4"
      },
      "execution_count": null,
      "outputs": []
    },
    {
      "source": [
        "**Reasoning**:\n",
        "The previous code block failed due to a missing NLTK resource.  Download the necessary resource ('punkt_tab') and rerun the analysis.\n",
        "\n"
      ],
      "cell_type": "markdown",
      "metadata": {
        "id": "8Y7NT1601DkW"
      }
    },
    {
      "source": [
        "import nltk\n",
        "nltk.download('punkt_tab')\n",
        "\n",
        "import matplotlib.pyplot as plt\n",
        "from collections import Counter\n",
        "from nltk.corpus import stopwords\n",
        "from nltk.tokenize import word_tokenize\n",
        "from nltk.util import ngrams\n",
        "\n",
        "# 1. Category Frequency Analysis (already done in previous block)\n",
        "\n",
        "# 2. Text Analysis (Word Frequencies)\n",
        "stop_words = set(stopwords.words('english'))\n",
        "all_words = []\n",
        "for resume in df['Resume']:\n",
        "    words = word_tokenize(resume.lower())\n",
        "    words = [word for word in words if word.isalnum() and word not in stop_words]  # Remove non-alphanumeric and stop words\n",
        "    all_words.extend(words)\n",
        "word_counts = Counter(all_words)\n",
        "\n",
        "top_10_words = word_counts.most_common(10)\n",
        "\n",
        "print(\"\\nTop 10 most frequent words:\")\n",
        "print(top_10_words)\n",
        "\n",
        "# 3. N-gram Analysis (Optional - 2-grams and 3-grams)\n",
        "bigrams = list(ngrams(all_words, 2))\n",
        "trigrams = list(ngrams(all_words, 3))\n",
        "\n",
        "bigram_counts = Counter(bigrams)\n",
        "top_10_bigrams = bigram_counts.most_common(10)\n",
        "\n",
        "trigram_counts = Counter(trigrams)\n",
        "top_10_trigrams = trigram_counts.most_common(10)\n",
        "\n",
        "\n",
        "print(\"\\nTop 10 most frequent bigrams:\")\n",
        "print(top_10_bigrams)\n",
        "\n",
        "print(\"\\nTop 10 most frequent trigrams:\")\n",
        "print(top_10_trigrams)"
      ],
      "cell_type": "code",
      "metadata": {
        "id": "IR1Tj4Ih1D0G"
      },
      "execution_count": null,
      "outputs": []
    },
    {
      "source": [
        "## Data visualization\n",
        "\n",
        "### Subtask:\n",
        "Visualize the distribution of the 'Category' column and the top 10 most frequent words from the resume text.\n"
      ],
      "cell_type": "markdown",
      "metadata": {
        "id": "1HZXmzOI1Ilz"
      }
    },
    {
      "source": [
        "**Reasoning**:\n",
        "Create the bar charts for category distribution and top 10 frequent words.\n",
        "\n"
      ],
      "cell_type": "markdown",
      "metadata": {
        "id": "EPzOCDAw1JcQ"
      }
    },
    {
      "source": [
        "import matplotlib.pyplot as plt\n",
        "from collections import Counter\n",
        "from nltk.corpus import stopwords\n",
        "from nltk.tokenize import word_tokenize\n",
        "\n",
        "# Category Distribution\n",
        "plt.figure(figsize=(12, 6))\n",
        "df['Category'].value_counts().plot(kind='bar', color='skyblue')\n",
        "plt.title('Distribution of Job Categories')\n",
        "plt.xlabel('Job Category')\n",
        "plt.ylabel('Frequency')\n",
        "plt.xticks(rotation=45, ha='right')\n",
        "plt.tight_layout()\n",
        "plt.show()\n",
        "\n",
        "\n",
        "# Word Frequency Distribution\n",
        "stop_words = set(stopwords.words('english'))\n",
        "all_words = []\n",
        "for resume in df['Resume']:\n",
        "    words = word_tokenize(resume.lower())\n",
        "    words = [word for word in words if word.isalnum() and word not in stop_words]\n",
        "    all_words.extend(words)\n",
        "word_counts = Counter(all_words)\n",
        "top_10_words = word_counts.most_common(10)\n",
        "\n",
        "words, counts = zip(*top_10_words)\n",
        "\n",
        "plt.figure(figsize=(12, 6))\n",
        "plt.barh(words, counts, color='lightcoral')\n",
        "plt.title('Top 10 Most Frequent Words in Resumes')\n",
        "plt.xlabel('Frequency')\n",
        "plt.ylabel('Word')\n",
        "plt.tight_layout()\n",
        "plt.show()"
      ],
      "cell_type": "code",
      "metadata": {
        "id": "glOTOIpS1JsH"
      },
      "execution_count": null,
      "outputs": []
    },
    {
      "source": [
        "## Summary:\n",
        "\n",
        "### 1. Q&A\n",
        "\n",
        "* **What is the distribution of job categories in the dataset?**  The most frequent categories are Java Developer (8.73%), Testing (7.28%), DevOps Engineer (5.72%), Python Developer (4.99%), and Web Designing (4.68%).\n",
        "* **What are the most frequent words in the resumes?** The top 10 most frequent words are 'exprience', 'company', 'project', 'months', 'description', 'details', 'data', 'team', 'management', and '1'.\n",
        "* **What are the most frequent two-word and three-word phrases?**  Common two-word phrases include ('months', 'exprience') and ('1', 'year'). Common three-word phrases include ('exprience', 'less', '1').\n",
        "\n",
        "\n",
        "### 2. Data Analysis Key Findings\n",
        "\n",
        "* The dataset contains 962 resumes categorized into 25 unique job categories.\n",
        "* There's a class imbalance in the 'Category' column, with 'Java Developer' being the most frequent category (84 occurrences).\n",
        "* The most frequent 'Resume' appears 18 times, suggesting some level of redundancy or potential duplicates.\n",
        "* The top 10 most frequent words in the resumes, after removing stop words, are 'exprience', 'company', 'project', 'months', 'description', 'details', 'data', 'team', 'management', and '1'.  This provides a preliminary understanding of common themes in the resumes.\n",
        "* Frequent two-word and three-word phrases, like ('months', 'exprience') and ('exprience', 'less', '1'), suggest common expressions used in describing work experience.\n",
        "\n",
        "\n",
        "### 3. Insights or Next Steps\n",
        "\n",
        "* **Investigate class imbalance:** Address the class imbalance in the 'Category' column to improve the performance of any future classification models. Techniques like oversampling, undersampling, or using cost-sensitive learning could be explored.\n",
        "* **Further text analysis:** Perform more in-depth text analysis, including stemming/lemmatization, to understand the semantic meaning of the text data. Consider topic modeling to uncover hidden themes or clusters within the resume text.\n"
      ],
      "cell_type": "markdown",
      "metadata": {
        "id": "ZTysfHUu1OtW"
      }
    },
    {
      "cell_type": "code",
      "source": [
        "import pandas as pd\n",
        "import re\n",
        "import nltk\n",
        "from nltk.corpus import stopwords\n",
        "\n",
        "# Ensure stopwords are downloaded\n",
        "nltk.download('stopwords')\n",
        "\n",
        "# Load the dataset\n",
        "df = pd.read_csv('UpdatedResumeDataSet.csv')\n",
        "\n",
        "# Define a simple cleaning function\n",
        "def clean_text(text):\n",
        "    text = text.lower()  # lowercase\n",
        "    text = re.sub(r'\\s+', ' ', text)  # remove extra spaces\n",
        "    text = re.sub(r'[^a-zA-Z0-9\\s]', '', text)  # remove special chars\n",
        "    words = text.split()  # simple split instead of tokenize\n",
        "    stop_words = set(stopwords.words('english'))\n",
        "    words = [word for word in words if word not in stop_words]  # remove stopwords\n",
        "    return ' '.join(words)\n",
        "\n",
        "# Apply cleaning\n",
        "df['Resume_cleaned'] = df['Resume'].apply(clean_text)\n",
        "\n",
        "# Preview cleaned data\n",
        "df[['Category', 'Resume_cleaned']].head()\n"
      ],
      "metadata": {
        "id": "dKzfHPNQ6Ymz"
      },
      "execution_count": null,
      "outputs": []
    },
    {
      "cell_type": "code",
      "source": [
        "from sklearn.preprocessing import LabelEncoder\n",
        "\n",
        "# Encode categories into numeric labels\n",
        "le = LabelEncoder()\n",
        "df['Category_encoded'] = le.fit_transform(df['Category'])\n",
        "\n",
        "# Check encoded labels\n",
        "df[['Category', 'Category_encoded']].drop_duplicates().sort_values('Category_encoded')\n",
        "\n"
      ],
      "metadata": {
        "id": "P7KPLO_c72tU"
      },
      "execution_count": null,
      "outputs": []
    },
    {
      "cell_type": "code",
      "source": [
        "from sklearn.feature_extraction.text import TfidfVectorizer\n",
        "\n",
        "# Vectorize the cleaned resume text\n",
        "tfidf = TfidfVectorizer(max_features=3000)\n",
        "X = tfidf.fit_transform(df['Resume_cleaned']).toarray()\n",
        "\n",
        "# Labels\n",
        "y = df['Category_encoded']\n",
        "print(\"\\nSample TF-IDF features (first row):\")\n",
        "print(X[0])\n",
        "print(\"TF-IDF matrix shape (X):\", X.shape)  # Should be (962, 3000)\n",
        "print(\"Label vector shape (y):\", y.shape)\n",
        "print(\"\\nFirst 5 categories (encoded):\")\n",
        "print(y[:5])\n"
      ],
      "metadata": {
        "id": "7EsKOlZK8aTB"
      },
      "execution_count": null,
      "outputs": []
    },
    {
      "cell_type": "code",
      "source": [
        "from sklearn.model_selection import train_test_split\n",
        "\n",
        "# Split the dataset (80% training, 20% testing)\n",
        "X_train, X_test, y_train, y_test = train_test_split(X, y, test_size=0.2, random_state=42)\n",
        "\n",
        "print(\"Training set shape:\", X_train.shape)\n",
        "print(\"Test set shape:\", X_test.shape)\n"
      ],
      "metadata": {
        "id": "o5nGRC9x9GIQ"
      },
      "execution_count": null,
      "outputs": []
    },
    {
      "cell_type": "code",
      "source": [
        "from sklearn.linear_model import LogisticRegression\n",
        "\n",
        "# Initialize and train the model\n",
        "model = LogisticRegression(max_iter=1000)\n",
        "model.fit(X_train, y_train)\n",
        "\n",
        "print(\"Model training complete.\")\n"
      ],
      "metadata": {
        "id": "t9xl6B3yD4tS"
      },
      "execution_count": null,
      "outputs": []
    },
    {
      "cell_type": "code",
      "source": [
        "from sklearn.metrics import classification_report, accuracy_score\n",
        "\n",
        "# Make predictions\n",
        "y_pred = model.predict(X_test)\n",
        "\n",
        "# Evaluate\n",
        "print(\"Accuracy:\", accuracy_score(y_test, y_pred))\n",
        "print(\"\\nClassification Report:\\n\")\n",
        "print(classification_report(y_test, y_pred))\n"
      ],
      "metadata": {
        "id": "Zh2Tuli5D-pC"
      },
      "execution_count": null,
      "outputs": []
    },
    {
      "cell_type": "code",
      "source": [
        "import pickle\n",
        "\n",
        "# Save model and vectorizer\n",
        "with open('resume_classifier_model.pkl', 'wb') as model_file:\n",
        "    pickle.dump(model, model_file)\n",
        "\n",
        "with open('tfidf_vectorizer.pkl', 'wb') as vec_file:\n",
        "    pickle.dump(tfidf, vec_file)\n",
        "\n",
        "print(\"Model and vectorizer saved successfully.\")\n"
      ],
      "metadata": {
        "id": "0bVcZSJ0EPpD"
      },
      "execution_count": null,
      "outputs": []
    },
    {
      "cell_type": "code",
      "source": [
        "def predict_resume_category(resume_text):\n",
        "    # Clean the input resume\n",
        "    cleaned = clean_text(resume_text)\n",
        "\n",
        "    # Vectorize\n",
        "    vectorized = tfidf.transform([cleaned])\n",
        "\n",
        "    # Predict\n",
        "    pred_encoded = model.predict(vectorized)[0]\n",
        "\n",
        "    # Decode the prediction\n",
        "    category = le.inverse_transform([pred_encoded])[0]\n",
        "\n",
        "    return category\n",
        "\n",
        "# Test it!\n",
        "sample_resume = \"Experienced in Python, machine learning, and deep learning projects...\"\n",
        "print(\"Predicted Category:\", predict_resume_category(sample_resume))\n"
      ],
      "metadata": {
        "id": "6NGKCgy_ETwh"
      },
      "execution_count": null,
      "outputs": []
    },
    {
      "cell_type": "code",
      "source": [
        "import seaborn as sns\n",
        "import matplotlib.pyplot as plt\n",
        "\n",
        "sns.countplot(y='Category', data=df, order=df['Category'].value_counts().index)\n",
        "plt.title(\"Category Distribution\")\n",
        "plt.show()\n"
      ],
      "metadata": {
        "id": "Qn7dosH3EjAL"
      },
      "execution_count": null,
      "outputs": []
    },
    {
      "cell_type": "code",
      "source": [],
      "metadata": {
        "id": "Vgi50hA9EoEu"
      },
      "execution_count": null,
      "outputs": []
    },
    {
      "cell_type": "code",
      "source": [
        "from sklearn.metrics import confusion_matrix, ConfusionMatrixDisplay\n",
        "\n",
        "cm = confusion_matrix(y_test, y_pred)\n",
        "disp = ConfusionMatrixDisplay(confusion_matrix=cm, display_labels=le.classes_)\n",
        "disp.plot(xticks_rotation=90)\n",
        "plt.title(\"Confusion Matrix\")\n",
        "plt.show()\n"
      ],
      "metadata": {
        "id": "DrLyP6l6ErDR"
      },
      "execution_count": null,
      "outputs": []
    }
  ]
}